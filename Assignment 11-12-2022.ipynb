{
 "cells": [
  {
   "cell_type": "markdown",
   "id": "64707b1f",
   "metadata": {},
   "source": [
    "# 1. Write a class called BankAccount that has the following:\n",
    "        • A field called name that stores the name of the account holder.\n",
    "        • A field called amount that stores the amount of money in the account.\n",
    "        • A field called interest_rate that stores the account’s interest rate (as a percentage).\n",
    "        • A constructor that just sets the values of the three fields above.\n",
    "        • A method called apply_interest() that takes no arguments and applies the interest to the\n",
    "        account. It should just modify the amount field and not return anything. For instance, if the\n",
    "        account has $1000 in it and the interest rate is 3%, then the amount variable should be changed\n",
    "        to $1030 ($1000 + 3% interest).\n",
    "        Then test the class, by creating a new BankAccount object for a user named Juan De Hattatime who\n",
    "        has $1000 at 3% interest. Then do the following:\n",
    "        • Use the apply_interest() method to apply the interest to the account.\n",
    "        • Print out how much money is now in the account after applying the interest.\n",
    "        • Change the account’s interest rate to 2%.\n",
    "        • Use the apply_interest() method to apply the interest to the account again.\n",
    "        • Print out how much money is now in the account after applying the interest again.\n",
    "        \n",
    " ----------------------------------------------------------------------------------------------------------------------------------------------------------------"
   ]
  },
  {
   "cell_type": "code",
   "execution_count": 15,
   "id": "cc68da37",
   "metadata": {},
   "outputs": [],
   "source": [
    "class BankAccount:\n",
    "    \"\"\"\n",
    "    class for Bank Account\n",
    "    \"\"\"\n",
    "    def __init__(self, name, amount, intrest_rate):\n",
    "        \"\"\"\n",
    "        Parameterised constructor of the BankAccount class \n",
    "        \"\"\"\n",
    "        self.name = name\n",
    "        self.amount = amount\n",
    "        self.intrest_rate = intrest_rate\n",
    "    \n",
    "    def apply_intrest(self):\n",
    "        \"\"\"\n",
    "        Method for apply the intrest and check the amount\n",
    "        \"\"\"\n",
    "        total_intrest = self.amount*self.intrest_rate/100\n",
    "        total_amount = self.amount + total_intrest\n",
    "        print(f\"The Total Amount in Account After {self.intrest_rate}% intrest is ${total_amount}\")\n",
    "    "
   ]
  },
  {
   "cell_type": "code",
   "execution_count": 18,
   "id": "a706d777",
   "metadata": {},
   "outputs": [],
   "source": [
    "s1 = BankAccount('Juan De Hattatime', 2000, 2)"
   ]
  },
  {
   "cell_type": "code",
   "execution_count": 19,
   "id": "66b7e7ce",
   "metadata": {},
   "outputs": [
    {
     "name": "stdout",
     "output_type": "stream",
     "text": [
      "The Total Amount in Account After 2% intrest is $2040.0\n"
     ]
    }
   ],
   "source": [
    "s1.apply_intrest()"
   ]
  },
  {
   "cell_type": "markdown",
   "id": "232e263e",
   "metadata": {},
   "source": [
    "# 2. Write a class called Item that represents an item for sale. It should have the following:\n",
    "      • Fields representing the name and price of the item\n",
    "      • A constructor that sets those fields,\n",
    "      • A __str__() method that returns a string containing the item name and price, with the price\n",
    "      formatted to exactly 2 decimal places\n",
    "      Test the class by creating a new item object and printing it out\n",
    "      \n",
    "-----------------------------------------------------------------------------------------------------------------------------------------------------------------\n"
   ]
  },
  {
   "cell_type": "code",
   "execution_count": 101,
   "id": "3e0e0dd0",
   "metadata": {},
   "outputs": [],
   "source": [
    "class Item:\n",
    "    \"\"\"\n",
    "    class for representing the items for sale\n",
    "    \"\"\"\n",
    "    def __init__(self, name, price):\n",
    "        \"\"\"\n",
    "        Parameterised contructor of the class\n",
    "        \"\"\"\n",
    "        self.name = name\n",
    "        self.price = price\n",
    "    \n",
    "    def __str__(self):\n",
    "        return(f\" Item name => {self.name}\\n Price => Rs.{self.price:.2f}\" )\n",
    "    "
   ]
  },
  {
   "cell_type": "code",
   "execution_count": 102,
   "id": "2e962c68",
   "metadata": {},
   "outputs": [],
   "source": [
    "test = Item('iphone',12.3456)"
   ]
  },
  {
   "cell_type": "code",
   "execution_count": 103,
   "id": "2a3fde60",
   "metadata": {},
   "outputs": [
    {
     "name": "stdout",
     "output_type": "stream",
     "text": [
      " Item name => iphone\n",
      " Price => Rs.12.35\n"
     ]
    }
   ],
   "source": [
    "print(test)"
   ]
  },
  {
   "cell_type": "markdown",
   "id": "156cdfa4",
   "metadata": {},
   "source": [
    "# 3. Write a class called ShoppingCart that might be used in an online store. It should have the following:\n",
    "      • A list of Item objects that represents the items in the shopping cart\n",
    "      • A constructor that creates an empty list of items (the constructor should take no arguments ex\u0002cept self)\n",
    "      • A method called add() that takes a name and a price and adds an Item object with that name\n",
    "      and price to the shopping cart\n",
    "      • A method called total() that takes no arguments and returns the total cost of the items in the\n",
    "      cart 34\n",
    "      • A method called remove_items() that takes an item name (a string) and removes any Item\n",
    "      objects with that name from the shopping cart. It shouldn’t return anything.\n",
    "      • A __str__() method that returns a string containing info on all the items in the shopping cart\n",
    "      Then test out the shopping cart as follows: \n",
    "      (1) create a shopping cart; \n",
    "      (2) add several items to it; \n",
    "      (3)print the cart’s total cost (using the total() method); \n",
    "      (4) remove one of the items types; \n",
    "      (5) print out the cart\n",
    "      \n",
    "----------------------------------------------------------------------------------------------------------------------------------------------------------------"
   ]
  },
  {
   "cell_type": "code",
   "execution_count": 247,
   "id": "1e543b38",
   "metadata": {},
   "outputs": [],
   "source": [
    "class ShoppingCart:\n",
    "    \"\"\"\n",
    "    Class used for online store\n",
    "    \"\"\"\n",
    "    def __init__(self):\n",
    "        \"\"\"\n",
    "        Non Parameterised Constructor\n",
    "        \"\"\"\n",
    "        self.name = []\n",
    "        self.price = []\n",
    "        \n",
    "    def add(self, name, price):\n",
    "        \"\"\"\n",
    "        Method to add the items in cart\n",
    "        \"\"\"\n",
    "        self.name.append(name)\n",
    "        self.price.append(price)\n",
    "    \n",
    "    def total(self):\n",
    "        \"\"\"\n",
    "        Methods gives the total Price of the items\n",
    "        \"\"\"\n",
    "        total_amt = sum(self.price)\n",
    "        print(f\"The Total Amount is Rs.{total_amt}\")\n",
    "        \n",
    "    def remove_item(self, name):\n",
    "        \"\"\"\n",
    "        Method to remove item from cart\n",
    "        \"\"\"\n",
    "        self.name.remove(name)\n",
    "    \n",
    "    def __str__(self):\n",
    "        print(f\"The Total Cart Items => \")\n",
    "        for item in self.name:\n",
    "            print(item, sep = \"\\n\")\n",
    "        return str(self.total())"
   ]
  },
  {
   "cell_type": "code",
   "execution_count": 248,
   "id": "e532441d",
   "metadata": {},
   "outputs": [],
   "source": [
    "check = ShoppingCart()"
   ]
  },
  {
   "cell_type": "code",
   "execution_count": 249,
   "id": "a2ae618b",
   "metadata": {},
   "outputs": [],
   "source": [
    "check.add('iphone',170000)"
   ]
  },
  {
   "cell_type": "code",
   "execution_count": 250,
   "id": "5ab06158",
   "metadata": {},
   "outputs": [
    {
     "name": "stdout",
     "output_type": "stream",
     "text": [
      "The Total Amount is Rs.170000\n"
     ]
    }
   ],
   "source": [
    "check.total()"
   ]
  },
  {
   "cell_type": "code",
   "execution_count": 156,
   "id": "8a159e40",
   "metadata": {},
   "outputs": [],
   "source": [
    "check.remove_item('ipad')"
   ]
  },
  {
   "cell_type": "code",
   "execution_count": 251,
   "id": "eed84182",
   "metadata": {},
   "outputs": [
    {
     "name": "stdout",
     "output_type": "stream",
     "text": [
      "The Total Cart Items => \n",
      "iphone\n",
      "The Total Amount is Rs.170000\n",
      "None\n"
     ]
    }
   ],
   "source": [
    "print(check)"
   ]
  },
  {
   "cell_type": "markdown",
   "id": "caffd5bb",
   "metadata": {},
   "source": [
    "# 4. Write a class called RestaurantCheck. It should have the following:\n",
    "      • Fields called check_number, sales_tax_percent, subtotal, table_number, and server_name\n",
    "      representing an identification for the check, the bill without tax added, the sales tax percentage,\n",
    "      the table number, and the name of the server.\n",
    "      • A constructor that sets the values of all four fields\n",
    "      • A method called calculate_total that takes no arguments (besides self) and returns the total\n",
    "      bill including sales tax.\n",
    "      • A method called print_check that writes to a file called check###.txt, where ### is the check\n",
    "      number and writes information about the check to that file, formatted like below:\n",
    "      Check Number: 443\n",
    "      Sales tax: 6.0%\n",
    "      Subtotal: $23.14\n",
    "      Total: $24.53\n",
    "      Table Number: 17\n",
    "      Server: Sonic the Hedgehog\n",
    "      Test the class by creating a RestaurantCheck object and calling the print_check() method\n",
    "      \n",
    "      \n",
    "      -----------------------------------------------------------------------------------------------------------------------------------------------------"
   ]
  },
  {
   "cell_type": "code",
   "execution_count": 132,
   "id": "cc9fc206",
   "metadata": {},
   "outputs": [],
   "source": [
    "class RestaurantCheck:\n",
    "    \"\"\"\n",
    "    class fo check the total restro bills\n",
    "    \"\"\"\n",
    "    def __init__(self, check_number, sales_tax_percent, subtotal, table_number, server_name):\n",
    "        self.check_number = check_number\n",
    "        self.sales_tax_percent = sales_tax_percent\n",
    "        self.subtotal = subtotal\n",
    "        self.table_number = table_number\n",
    "        self.server_name = server_name\n",
    "        \n",
    "    def calculate_total(self):\n",
    "        \"\"\"\n",
    "        Method to calculate the total with tax\n",
    "        \"\"\"\n",
    "        total = int(self.subtotal*self.sales_tax_percent/100) + self.subtotal\n",
    "        print(f\"Your Total Bill is of ${total}\")\n",
    "        \n",
    "    def print_check(self):\n",
    "        \"\"\"\n",
    "        Method for print the all checks in txt file\n",
    "        \"\"\"\n",
    "        total = int(self.subtotal*self.sales_tax_percent/100) + self.subtotal\n",
    "        names = ['Check Number:', 'Sales Tax Percent:', 'Subtotal: $', 'Total: $', 'Table Number:', 'Server Name:']\n",
    "        lines = [self.check_number, self.sales_tax_percent, self.subtotal, total, self.table_number, self.server_name]\n",
    "        new_file = open(f'check{self.check_number}.txt', \"w+\")\n",
    "        for name, line in zip(names,lines):\n",
    "            new_file.write(name + str(line))\n",
    "            new_file.write('\\n')\n",
    "        new_file.close()\n",
    "        "
   ]
  },
  {
   "cell_type": "code",
   "execution_count": 133,
   "id": "bed4a45c",
   "metadata": {},
   "outputs": [],
   "source": [
    "a = RestaurantCheck(12,10,100,5,'America')"
   ]
  },
  {
   "cell_type": "code",
   "execution_count": 134,
   "id": "1daa8131",
   "metadata": {},
   "outputs": [
    {
     "name": "stdout",
     "output_type": "stream",
     "text": [
      "Your Total Bill is of $110\n"
     ]
    }
   ],
   "source": [
    "a.calculate_total()"
   ]
  },
  {
   "cell_type": "code",
   "execution_count": 135,
   "id": "92e8d4da",
   "metadata": {},
   "outputs": [],
   "source": [
    "a.print_check()"
   ]
  },
  {
   "cell_type": "markdown",
   "id": "6b0494f3",
   "metadata": {},
   "source": [
    "# 5. Write a class called Ticket that has the following:\n",
    "      • A field cost for the price of the ticket and a string field time for the start time of the event\n",
    "      (assume times are in 24-hour format, like '18:35')\n",
    "      • A constructor that sets those variables\n",
    "      • A __str__() method that returns a string of the form Ticket(<cost>, <time>), where\n",
    "      <cost> and <time> are replaced with the values of the cost and time fields.\n",
    "      • A method called is_evening_time() that returns True or False, depending on whether the\n",
    "      time falls in the range from 18:00 to 23:59.\n",
    "      • A method called bulk_discount() that takes an integer n and returns the discount for buying n\n",
    "      tickets. There should be a 10% discount for buying 5 to 9 tickets, and a 20% discount for buying\n",
    "      10 or more. Otherwise, there is no discount. Return these percentages as integers.\n",
    "      Test the class by creating a Ticket item, printing it, calling the is_evening_time() method, and\n",
    "      calling the bulk_discount() method"
   ]
  },
  {
   "cell_type": "code",
   "execution_count": 109,
   "id": "8375abcb",
   "metadata": {},
   "outputs": [],
   "source": [
    "from time import gmtime, strftime\n",
    "class Ticket:\n",
    "    \"\"\"\n",
    "    class for get ticket details\n",
    "    \"\"\"\n",
    "    def __init__(self, cost, time):\n",
    "        self.cost = cost\n",
    "        self.time = time\n",
    "        \n",
    "    def __str__(self):\n",
    "        return (f\" Cost => Rs.{self.cost}\\n Time => {self.time:.2f}\")\n",
    "    \n",
    "    def is_evening_time(self):\n",
    "        if self.time>=18.00 and self.time<=23.59 :\n",
    "            return True\n",
    "        else:\n",
    "            return False\n",
    "    \n",
    "    def bulk_discount(self, n):\n",
    "        \"\"\"\n",
    "        Return discount buying n tickets\n",
    "        \"\"\"\n",
    "        if n in range(5,9+1):\n",
    "            return(\"You Are Eligible for 10% Discount!\")\n",
    "        elif n >= 10:\n",
    "            return(\"You Are Eligible for 20% Discount!\")\n",
    "        else:\n",
    "            return(\"Sorry! No Discount!\")"
   ]
  },
  {
   "cell_type": "code",
   "execution_count": 110,
   "id": "a490242c",
   "metadata": {},
   "outputs": [],
   "source": [
    "s = Ticket(25, 12.0)"
   ]
  },
  {
   "cell_type": "code",
   "execution_count": 111,
   "id": "206dc32c",
   "metadata": {},
   "outputs": [
    {
     "name": "stdout",
     "output_type": "stream",
     "text": [
      " Cost => Rs.25\n",
      " Time => 12.00\n"
     ]
    }
   ],
   "source": [
    "print(s)"
   ]
  },
  {
   "cell_type": "code",
   "execution_count": 112,
   "id": "85fa1946",
   "metadata": {},
   "outputs": [
    {
     "data": {
      "text/plain": [
       "False"
      ]
     },
     "execution_count": 112,
     "metadata": {},
     "output_type": "execute_result"
    }
   ],
   "source": [
    "s.is_evening_time()"
   ]
  },
  {
   "cell_type": "code",
   "execution_count": 114,
   "id": "3e112fa1",
   "metadata": {},
   "outputs": [
    {
     "data": {
      "text/plain": [
       "'You Are Eligible for 20% Discout!'"
      ]
     },
     "execution_count": 114,
     "metadata": {},
     "output_type": "execute_result"
    }
   ],
   "source": [
    "s.bulk_discount(10)"
   ]
  },
  {
   "cell_type": "code",
   "execution_count": null,
   "id": "aa5a4871",
   "metadata": {},
   "outputs": [],
   "source": []
  }
 ],
 "metadata": {
  "kernelspec": {
   "display_name": "Python 3 (ipykernel)",
   "language": "python",
   "name": "python3"
  },
  "language_info": {
   "codemirror_mode": {
    "name": "ipython",
    "version": 3
   },
   "file_extension": ".py",
   "mimetype": "text/x-python",
   "name": "python",
   "nbconvert_exporter": "python",
   "pygments_lexer": "ipython3",
   "version": "3.9.12"
  }
 },
 "nbformat": 4,
 "nbformat_minor": 5
}
